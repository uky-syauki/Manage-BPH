{
 "cells": [
  {
   "cell_type": "code",
   "execution_count": 3,
   "metadata": {},
   "outputs": [],
   "source": [
    "import cv2 as cv\n",
    "import numpy as np\n",
    "import os\n",
    "from PIL import Image\n"
   ]
  },
  {
   "cell_type": "code",
   "execution_count": 70,
   "metadata": {},
   "outputs": [],
   "source": [
    "class Deteksi_wajah:\n",
    "    def __init__(self):\n",
    "        self.path_train = 'train/'\n",
    "        self.img = 'img/'\n",
    "        self.path_dataset = 'dataset/'\n",
    "        self.path_sample_img = 'img/'\n",
    "        self.cascade_face = cv.CascadeClassifier('cascade/face_detect.xml')\n",
    "        self.recognizer = cv.face.LBPHFaceRecognizer_create()\n",
    "    def update_dataset(self):\n",
    "        for i, folder_user in enumerate(os.listdir(self.img)):\n",
    "            for j, foto_user in enumerate(os.listdir(self.img+folder_user)):\n",
    "                image = cv.imread(f'{self.img}{folder_user}/{foto_user}')\n",
    "                gray = cv.cvtColor(image, cv.COLOR_BGR2GRAY)\n",
    "                wajah = self.cascade_face.detectMultiScale(gray, 1.3, 5)\n",
    "                for (x, y, w, h) in wajah:\n",
    "                    cv.imwrite(f'{self.path_dataset}{folder_user}.{i+1}.{j+1}.png', gray[y:y+h, x:x+w])\n",
    "                    \n",
    "                # print(self.img+folder_user+'/'+foto_user)\n",
    "                # print(f\"{self.path_dataset+folder_user}.{i+1}.{j+1}.png\")\n",
    "    def train(self):\n",
    "        faceSample = []\n",
    "        ids = []\n",
    "    \n",
    "        for foto in os.listdir(f'{self.path_dataset}'):\n",
    "            # print(foto, os.path.split(foto)[-1].split('.')[1])\n",
    "            # PIL_img = Image.open(f'{self.path_dataset}{foto}').convert('L')\n",
    "            img = cv.imread(f\"{self.path_dataset}{foto}\")\n",
    "            img = cv.cvtColor(img, cv.COLOR_BGR2GRAY)\n",
    "            np_img = np.array(img, 'uint8')\n",
    "            # wajah = self.cascade_face.detectMultiScale(np_img)\n",
    "            id = int(os.path.split(foto)[-1].split('.')[1])\n",
    "\n",
    "            # for (x, y, w, h) in wajah:\n",
    "            faceSample.append(np_img)\n",
    "            ids.append(id)\n",
    "        \n",
    "        print(\"[INFO START TRAINING]\")\n",
    "        self.recognizer.train(faceSample, np.array(ids))\n",
    "        self.recognizer.write(f'{self.path_train}latih.yml')\n",
    "        print(f\"[INFO TRAINING SELESAI]: {len(np.unique(ids))} wajah dilatih\")\n",
    "    def tesSample(self,nama):\n",
    "        nilai = []\n",
    "        self.recognizer.read(self.path_train+'latih.yml')\n",
    "        daftar_nama = ['None'] + os.listdir(self.path_sample_img)\n",
    "        for foto in os.listdir(self.path_sample_img+nama):\n",
    "            try:\n",
    "            # print(f'{self.path_sample_img}{nama}/{foto}')\n",
    "                img = cv.imread(f'{self.path_sample_img}{nama}/{foto}')\n",
    "                gray = cv.cvtColor(img, cv.COLOR_BGR2GRAY)\n",
    "                wajah = self.cascade_face.detectMultiScale(gray, 1.3, 5)\n",
    "                for (x, y, w, h) in wajah:\n",
    "                    id, predic = self.recognizer.predict(gray[y:y+h, x:x+w])\n",
    "                    # print(f'nama: {daftar_nama[id]}, predic: {100-round(predic)}%, file: {foto}')\n",
    "                    nilai.append(100-round(predic))\n",
    "            except:\n",
    "                # print(f'nama: {nama}, predic: BAD, file: {foto}')\n",
    "                nilai.append(0)\n",
    "        return nilai\n",
    "\n",
    "\n",
    "        # for folder_wajah in os.listdir(self.path_sample_img):\n",
    "        #     for foto in os.listdir(f'{self.path_sample_img}{folder_wajah}'):\n",
    "\n",
    "\n",
    "\n",
    "            \n",
    "            # wajah = self.cascade_face.detectMultiScale()\n",
    "            \n",
    "            # im_numpy = np.array(PIL_img, 'uint8')\n",
    "            \n",
    "            "
   ]
  },
  {
   "cell_type": "code",
   "execution_count": 65,
   "metadata": {},
   "outputs": [
    {
     "name": "stdout",
     "output_type": "stream",
     "text": [
      "['dzikri', 'diva', 'uki', 'arini']\n"
     ]
    }
   ],
   "source": [
    "daftar = os.listdir('img')\n",
    "print(daftar)"
   ]
  },
  {
   "cell_type": "code",
   "execution_count": 73,
   "metadata": {},
   "outputs": [
    {
     "name": "stdout",
     "output_type": "stream",
     "text": [
      "['dzikri', [100, 100, 100, 100, 100, 100, 100, 100, 100, 59, 100, 100, 100, 100, 100, 100, 100, 100, 100, 100]] 20\n",
      "['diva', [100, 100, 100, 100, 100, 100, 100, 100, 100, 100, 100, 100, 100, 100, 100, 100, 100, 100, 100, 100]] 20\n",
      "['uki', [100, 100, 100, 100, 100, 100, 100, 16, 100, 100, 100, 100, 100, 100, 100, 100, 100, 100, 100, 100]] 20\n",
      "['arini', [100, 100, 100, 100, 100, 100, 100, 100, 100, 100, 100, 100, 100, 100, 100, 100, 100, 100, 100, 100]] 20\n"
     ]
    }
   ],
   "source": [
    "# instance\n",
    "daftar = os.listdir('img')\n",
    "deteksi = Deteksi_wajah()\n",
    "# deteksi.tesSample(daftar[1])\n",
    "\n",
    "dzikri = [daftar[0], deteksi.tesSample(daftar[0])]\n",
    "diva = [daftar[1], deteksi.tesSample(daftar[1])]\n",
    "uki = [daftar[2], deteksi.tesSample(daftar[2])]\n",
    "arini = [daftar[3], deteksi.tesSample(daftar[3])]\n",
    "\n",
    "print(dzikri, len(dzikri[1]))\n",
    "print(diva, len(diva[1]))\n",
    "print(uki, len(uki[1]))\n",
    "print(arini, len(arini[1]))"
   ]
  },
  {
   "cell_type": "code",
   "execution_count": null,
   "metadata": {},
   "outputs": [],
   "source": []
  },
  {
   "cell_type": "code",
   "execution_count": 76,
   "metadata": {},
   "outputs": [
    {
     "data": {
      "image/png": "[encoded data removed]",
      "text/plain": [
       "<Figure size 640x480 with 1 Axes>"
      ]
     },
     "metadata": {},
     "output_type": "display_data"
    }
   ],
   "source": [
    "import matplotlib.pyplot as plt\n",
    "import numpy as np\n",
    "\n",
    "# categories = ['Kategori 1', 'Kategori 2', 'Kategori 3', 'Kategori 4']\n",
    "# values1 = [1, 2, 3, 4]\n",
    "# values2 = [2, 3, 4, 1]\n",
    "# values3 = [3, 4, 1, 2]\n",
    "# values4 = [4, 1, 2, 3]\n",
    "categories = [dzikri[0], diva[0], uki[0], arini[0]]\n",
    "values1 = dzikri[1][:4]\n",
    "values2 = diva[1][:4]\n",
    "values3 = uki[1][:4]\n",
    "values4 = arini[1][:4]\n",
    "\n",
    "# Mengatur posisi kategori\n",
    "x = np.arange(len(categories))\n",
    "\n",
    "# Lebar setiap batang\n",
    "bar_width = 0.2\n",
    "\n",
    "# Menampilkan batang pertama dengan kategori sebagai legenda\n",
    "plt.bar(x - 1.5 * bar_width, values1, width=bar_width, color='red', label='Nilai 1')\n",
    "\n",
    "# Menampilkan batang kedua dengan kategori sebagai legenda\n",
    "plt.bar(x - 0.5 * bar_width, values2, width=bar_width, color='green', label='Nilai 2')\n",
    "\n",
    "# Menampilkan batang ketiga dengan kategori sebagai legenda\n",
    "plt.bar(x + 0.5 * bar_width, values3, width=bar_width, color='blue', label='Nilai 3')\n",
    "\n",
    "# Menampilkan batang keempat dengan kategori sebagai legenda\n",
    "plt.bar(x + 1.5 * bar_width, values4, width=bar_width, color='purple', label='Nilai 4')\n",
    "\n",
    "plt.xlabel('Kategori')\n",
    "plt.ylabel('Nilai')\n",
    "plt.title('Contoh Batang dengan Kategori sebagai Legenda')\n",
    "\n",
    "# Menambahkan legenda\n",
    "plt.legend()\n",
    "\n",
    "# Menampilkan kategori di sumbu x\n",
    "plt.xticks(x, categories)\n",
    "\n",
    "plt.show()\n"
   ]
  },
  {
   "cell_type": "code",
   "execution_count": 27,
   "metadata": {},
   "outputs": [
    {
     "name": "stdout",
     "output_type": "stream",
     "text": [
      "0\n"
     ]
    }
   ],
   "source": [
    "print(0)"
   ]
  },
  {
   "cell_type": "code",
   "execution_count": 2,
   "metadata": {},
   "outputs": [
    {
     "name": "stderr",
     "output_type": "stream",
     "text": [
      "Warning: QT_DEVICE_PIXEL_RATIO is deprecated. Instead use:\n",
      "   QT_AUTO_SCREEN_SCALE_FACTOR to enable platform plugin controlled per-screen factors.\n",
      "   QT_SCREEN_SCALE_FACTORS to set per-screen DPI.\n",
      "   QT_SCALE_FACTOR to set the application global scale factor.\n"
     ]
    }
   ],
   "source": [
    "img = cv.imread('img/uki/uki.1.png')\n",
    "cv.imshow(\"Foto\", img)\n",
    "cv.waitKey(0)\n",
    "cv.destroyAllWindows()\n"
   ]
  },
  {
   "cell_type": "code",
   "execution_count": null,
   "metadata": {},
   "outputs": [],
   "source": []
  }
 ],
 "metadata": {
  "kernelspec": {
   "display_name": "venv",
   "language": "python",
   "name": "python3"
  },
  "language_info": {
   "codemirror_mode": {
    "name": "ipython",
    "version": 3
   },
   "file_extension": ".py",
   "mimetype": "text/x-python",
   "name": "python",
   "nbconvert_exporter": "python",
   "pygments_lexer": "ipython3",
   "version": "3.9.16"
  },
  "orig_nbformat": 4
 },
 "nbformat": 4,
 "nbformat_minor": 2
}
